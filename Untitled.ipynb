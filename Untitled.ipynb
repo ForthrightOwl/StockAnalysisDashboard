{
  "nbformat": 4,
  "nbformat_minor": 0,
  "metadata": {
    "colab": {
      "name": "Untitled",
      "provenance": [],
      "collapsed_sections": [
        "MdRp3hZM0eF1",
        "L1hL-dBd0lxv",
        "TK3li-ee5FzX",
        "rbyOZWND-7hN"
      ],
      "authorship_tag": "ABX9TyPie98QxDNbrIen738x4JWp",
      "include_colab_link": true
    },
    "kernelspec": {
      "name": "python3",
      "display_name": "Python 3"
    },
    "language_info": {
      "name": "python"
    }
  },
  "cells": [
    {
      "cell_type": "markdown",
      "metadata": {
        "id": "view-in-github",
        "colab_type": "text"
      },
      "source": [
        "<a href=\"https://colab.research.google.com/github/ForthrightOwl/StockAnalysisDashboard/blob/master/Untitled.ipynb\" target=\"_parent\"><img src=\"https://colab.research.google.com/assets/colab-badge.svg\" alt=\"Open In Colab\"/></a>"
      ]
    },
    {
      "cell_type": "code",
      "execution_count": 1,
      "metadata": {
        "id": "ziKklSsmpago",
        "colab": {
          "base_uri": "https://localhost:8080/"
        },
        "outputId": "bc559448-4126-4690-8232-1ef53029b40d"
      },
      "outputs": [
        {
          "output_type": "stream",
          "name": "stdout",
          "text": [
            "Looking in indexes: https://pypi.org/simple, https://us-python.pkg.dev/colab-wheels/public/simple/\n",
            "Collecting fsspec\n",
            "  Downloading fsspec-2022.5.0-py3-none-any.whl (140 kB)\n",
            "\u001b[K     |████████████████████████████████| 140 kB 7.7 MB/s \n",
            "\u001b[?25hInstalling collected packages: fsspec\n",
            "Successfully installed fsspec-2022.5.0\n"
          ]
        }
      ],
      "source": [
        "!pip install fsspec"
      ]
    },
    {
      "cell_type": "markdown",
      "source": [
        "# Basic functions"
      ],
      "metadata": {
        "id": "MdRp3hZM0eF1"
      }
    },
    {
      "cell_type": "code",
      "source": [
        "#\"\"\"imports and request functions\"\"\"\n",
        "import json\n",
        "try:\n",
        "    # For Python 3.0 and later\n",
        "        from urllib.request import urlopen\n",
        "except ImportError:\n",
        "# Fall back to Python 2's urllib2\n",
        "    from urllib2 import urlopen\n",
        "import pandas as pd\n",
        "import datetime as dt\n",
        "\n",
        "#df of all stock tickers on the platform\n",
        "def stock_tickers(api_key):\n",
        "  URL = f\"https://financialmodelingprep.com/api/v3/stock/list?apikey={api_key}\"\n",
        "  response = urlopen(URL)\n",
        "  data = response.read().decode(\"utf-8\")\n",
        "  raw_data = pd.DataFrame(json.loads(data))\n",
        "  stocks = raw_data.loc[raw_data[\"type\"]==\"stock\"]\n",
        "  return stocks\n",
        "\n",
        "#df of all stocks listed on us stock exchanges\n",
        "def us_stocks(api_key):\n",
        "  data = stock_tickers(api_key)\n",
        "  data2 = data[data[\"exchangeShortName\"].isin(['NASDAQ', 'NYSE'])]\n",
        "  return data2\n",
        "\n",
        "#Return the country of a given ticker\n",
        "def stock_country(stock, api_key):\n",
        "  URL = f\"https://financialmodelingprep.com/api/v3/profile/{stock}?apikey={api_key}\"\n",
        "  response = urlopen(URL)\n",
        "  data = response.read().decode(\"utf-8\")\n",
        "  raw_data = pd.DataFrame(json.loads(data))\n",
        "  country = raw_data[\"country\"]\n",
        "  return country[0]\n",
        "\n",
        "#Financial statement import\n",
        "def request_fs(statement, ticker, api_key):\n",
        "  URL = f\"https://financialmodelingprep.com/api/v3/{statement}/{ticker}?period=quarter&limit=400&apikey={api_key}\"\n",
        "  response = urlopen(URL)\n",
        "  data = response.read().decode(\"utf-8\")\n",
        "  return pd.DataFrame(json.loads(data))\n",
        "\n",
        "#Price data import\n",
        "def request_price_data(ticker, api_key):\n",
        "  URL = f\"https://financialmodelingprep.com/api/v3/historical-chart/4hour/{ticker}?apikey={api_key}\"\n",
        "  response = urlopen(URL)\n",
        "  data = response.read().decode(\"utf-8\")\n",
        "  df = pd.DataFrame(json.loads(data))\n",
        "  df[\"Date\"] = pd.to_datetime(df[\"date\"]).dt.date\n",
        "  df = df.groupby(\"Date\").first()\n",
        "  df = df.drop(columns=\"date\")\n",
        "  return df\n",
        "\n",
        "API_KEY = \"27fa7a7c3d3da5a299b15db12745f4f5\"\n"
      ],
      "metadata": {
        "id": "xbvcaRocZ5vL"
      },
      "execution_count": 2,
      "outputs": []
    },
    {
      "cell_type": "markdown",
      "source": [
        "# Income statement"
      ],
      "metadata": {
        "id": "L1hL-dBd0lxv"
      }
    },
    {
      "cell_type": "code",
      "source": [
        "def curate_is(ticker, api_key):\n",
        "  ins = request_fs(\"income-statement\", ticker, api_key)\n",
        "  ins = ins[[\"calendarYear\", \"revenue\", \"costOfRevenue\", \"grossProfit\", \"sellingGeneralAndAdministrativeExpenses\", \n",
        "             \"depreciationAndAmortization\", \"otherExpenses\", \"operatingExpenses\", \"operatingIncome\",\"interestIncome\", \n",
        "             \"interestExpense\", \"totalOtherIncomeExpensesNet\", \"incomeBeforeTax\", \"incomeTaxExpense\", \"netIncome\", \n",
        "             \"period\", \"fillingDate\"]]\n",
        "  ins[\"Ticker\"] = ticker\n",
        "  ins.set_index([\"Ticker\", \"calendarYear\", \"period\", \"fillingDate\"], inplace=True)\n",
        "  return ins\n",
        "\n",
        "def curate_ratio_is(ticker, api_key):\n",
        "  ins = curate_is(ticker, api_key)\n",
        "  rv = ins[\"revenue\"]\n",
        "  ins = ins.div(rv, axis=0)\n",
        "  return ins\n",
        "\n"
      ],
      "metadata": {
        "id": "J9W4DpAubT1z"
      },
      "execution_count": 3,
      "outputs": []
    },
    {
      "cell_type": "markdown",
      "source": [
        "# Balance sheet"
      ],
      "metadata": {
        "id": "TK3li-ee5FzX"
      }
    },
    {
      "cell_type": "code",
      "source": [
        "def curate_bs(ticker, api_key):\n",
        "  bs = request_fs(\"balance-sheet-statement\", ticker, api_key)\n",
        "  bs = bs[['calendarYear', 'cashAndCashEquivalents',\n",
        "       'shortTermInvestments', 'netReceivables',\n",
        "       'inventory', 'otherCurrentAssets', 'totalCurrentAssets',\n",
        "       'propertyPlantEquipmentNet', 'goodwill', 'intangibleAssets',\n",
        "       'longTermInvestments', 'taxAssets',\n",
        "       'otherNonCurrentAssets', 'totalNonCurrentAssets', 'otherAssets',\n",
        "       'totalAssets', 'accountPayables', 'shortTermDebt', 'taxPayables',\n",
        "       'deferredRevenue', 'otherCurrentLiabilities', 'totalCurrentLiabilities',\n",
        "       'longTermDebt', 'deferredRevenueNonCurrent',\n",
        "       'deferredTaxLiabilitiesNonCurrent', 'otherNonCurrentLiabilities',\n",
        "       'totalNonCurrentLiabilities', 'otherLiabilities',\n",
        "       'capitalLeaseObligations', 'totalLiabilities', 'preferredStock',\n",
        "       'commonStock', 'retainedEarnings',\n",
        "       'accumulatedOtherComprehensiveIncomeLoss',\n",
        "       'othertotalStockholdersEquity', 'totalStockholdersEquity',\n",
        "       'totalLiabilitiesAndStockholdersEquity', 'minorityInterest',\n",
        "       'totalEquity', 'totalLiabilitiesAndTotalEquity', \"period\", \"fillingDate\"]]\n",
        "  bs[\"Ticker\"] = ticker\n",
        "  bs.set_index([\"Ticker\", \"calendarYear\", \"period\", \"fillingDate\"], inplace=True)\n",
        "  \n",
        "  return bs\n",
        "\n",
        "def curate_ratio_bs(ticker, api_key):\n",
        "  bs = curate_bs(ticker, api_key)\n",
        "  ta = bs[\"totalAssets\"]\n",
        "  bs = bs.div(ta, axis=0)\n",
        "  bs[\"Leverage\"] = bs['totalLiabilities'] / bs['totalEquity']\n",
        "  bs[\"Quick ratio\"] = (bs['cashAndCashEquivalents'] + bs['shortTermInvestments'] + bs['netReceivables']) / bs['totalCurrentLiabilities']\n",
        "  bs[\"Working capital\"] = bs['totalCurrentAssets'] - bs['totalCurrentLiabilities']\n",
        "  return bs"
      ],
      "metadata": {
        "id": "tjcqZbkq94v2"
      },
      "execution_count": 4,
      "outputs": []
    },
    {
      "cell_type": "markdown",
      "source": [
        "# Cash Flow Statement"
      ],
      "metadata": {
        "id": "rbyOZWND-7hN"
      }
    },
    {
      "cell_type": "code",
      "source": [
        "def curate_cf(ticker, api_key):\n",
        "  cf = request_fs(\"cash-flow-statement\", ticker, api_key)\n",
        "  cf = cf[['calendarYear', 'netIncome',\n",
        "       'depreciationAndAmortization', 'deferredIncomeTax',\n",
        "       'stockBasedCompensation', 'changeInWorkingCapital',\n",
        "       'accountsReceivables', 'inventory', 'accountsPayables',\n",
        "       'otherWorkingCapital', 'otherNonCashItems',\n",
        "       'netCashProvidedByOperatingActivities',\n",
        "       'investmentsInPropertyPlantAndEquipment', 'acquisitionsNet',\n",
        "       'purchasesOfInvestments', 'salesMaturitiesOfInvestments',\n",
        "       'otherInvestingActivites', 'netCashUsedForInvestingActivites',\n",
        "       'debtRepayment', 'commonStockIssued', 'commonStockRepurchased',\n",
        "       'dividendsPaid', 'otherFinancingActivites',\n",
        "       'netCashUsedProvidedByFinancingActivities',\n",
        "       'effectOfForexChangesOnCash', 'netChangeInCash', \n",
        "       'cashAtBeginningOfPeriod', 'cashAtEndOfPeriod', \"period\",\n",
        "       'operatingCashFlow', 'capitalExpenditure', 'freeCashFlow', \"fillingDate\"\n",
        "       ]]\n",
        "  cf[\"Ticker\"] = ticker\n",
        "  cf.set_index([\"Ticker\", \"calendarYear\", \"period\", \"fillingDate\"], inplace=True)\n",
        "  return cf\n",
        "\n",
        "def curate_ratio_cf(ticker, api_key):\n",
        "  cf = curate_cf(ticker, api_key)\n",
        "  ta = cf[\"netIncome\"]\n",
        "  cf = cf.div(ta, axis=0)\n",
        "  return cf\n",
        "\n"
      ],
      "metadata": {
        "id": "Z0w11ob4-_jh"
      },
      "execution_count": 5,
      "outputs": []
    },
    {
      "cell_type": "markdown",
      "source": [
        "# Financial statement growth\n"
      ],
      "metadata": {
        "id": "71ama3593WRV"
      }
    },
    {
      "cell_type": "code",
      "source": [
        "def QoQ_growth_statement(data):\n",
        "  cats = data.columns\n",
        "  data = data\n",
        "  for cat in cats:\n",
        "    data[cat + \"QoQ\"] = (data[cat] / data[cat].shift(periods=-1))-1\n",
        "  data = data.drop(columns=cats)\n",
        "  return data\n",
        "\n",
        "QoQ_growth_statement(curate_is(\"AAPL\", API_KEY))"
      ],
      "metadata": {
        "id": "f21fvaeWgZ_f"
      },
      "execution_count": null,
      "outputs": []
    },
    {
      "cell_type": "code",
      "source": [
        "#Calculate trailing twelve months growth in given financial statement for all articles\n",
        "\n",
        "def TTM_growth_statement(data):\n",
        "  cats = data.columns\n",
        "  data = data\n",
        "  for cat in cats:\n",
        "    data[cat + \"TTM\"] = ((data[cat] + data[cat].shift(periods=-1) + data[cat].shift(periods=-2) + \n",
        "                  data[cat].shift(periods=-3))/(data[cat].shift(periods=-4) + \n",
        "                  data[cat].shift(periods=-5) + data[cat].shift(periods=-6) + \n",
        "                  data[cat].shift(periods=-7))) - 1\n",
        "  data = data.drop(columns=cats)\n",
        "  return data\n",
        "\n",
        "TTM_growth_statement(curate_cf(\"AAPL\", API_KEY)).head(30)"
      ],
      "metadata": {
        "id": "gHwARnPB37U4"
      },
      "execution_count": null,
      "outputs": []
    },
    {
      "cell_type": "code",
      "source": [
        "#Calculates a 3 year rolling average for a given period\n",
        "def three_year_rolling_average(data):\n",
        "  data = data.fillna(method=\"ffill\")\n",
        "  cats = data.columns\n",
        "  for cat in cats:\n",
        "    data[cat + \"_3YRA\"] = (data[cat] + data[cat].shift(periods=-4) + data[cat].shift(periods=-8))/3\n",
        "  data = data.drop(columns=cats)\n",
        "  return data\n",
        "\n",
        "three_year_rolling_average(TTM_growth_statement(curate_cf(\"AAPL\", API_KEY))).tail(20)"
      ],
      "metadata": {
        "id": "-KvIVAiiaoHh"
      },
      "execution_count": null,
      "outputs": []
    },
    {
      "cell_type": "markdown",
      "source": [
        "# Financial growth ratios"
      ],
      "metadata": {
        "id": "3BDQuCXGP8-S"
      }
    },
    {
      "cell_type": "code",
      "source": [
        ""
      ],
      "metadata": {
        "id": "IetDJc_iP8ou"
      },
      "execution_count": null,
      "outputs": []
    },
    {
      "cell_type": "code",
      "source": [
        ""
      ],
      "metadata": {
        "id": "k56-Mm2uP8M2"
      },
      "execution_count": null,
      "outputs": []
    },
    {
      "cell_type": "markdown",
      "source": [
        "# Combined % financial statements"
      ],
      "metadata": {
        "id": "9uMYdkcqObwt"
      }
    },
    {
      "cell_type": "code",
      "source": [
        "def combine_fin_statements(ticker, api_key):\n",
        "  ins = curate_ratio_is(ticker, api_key)\n",
        "  bs = curate_ratio_bs(ticker, api_key)\n",
        "  cf = curate_ratio_cf(ticker, api_key)\n",
        "  stat = pd.merge(ins, bs, left_index=True, right_index=True, how=\"inner\")\n",
        "  stat = pd.merge(stat, cf, left_index=True, right_index=True, how=\"inner\")\n",
        "  ins_QoQ = QoQ_growth_statement(curate_is(\"AAPL\", API_KEY))\n",
        "  bs_QoQ = QoQ_growth_statement(curate_bs(\"AAPL\", API_KEY))\n",
        "  cf_QoQ = QoQ_growth_statement(curate_cf(\"AAPL\", API_KEY))\n",
        "  stat = pd.merge(stat, ins_QoQ, left_index=True, right_index=True, how=\"inner\")\n",
        "  stat = pd.merge(stat, cf_QoQ, left_index=True, right_index=True, how=\"inner\")\n",
        "  stat = pd.merge(stat, bs_QoQ, left_index=True, right_index=True, how=\"inner\")\n",
        "  ins_TTM = TTM_growth_statement(curate_is(\"AAPL\", API_KEY))\n",
        "  bs_TTM = TTM_growth_statement(curate_bs(\"AAPL\", API_KEY))\n",
        "  cf_TTM = TTM_growth_statement(curate_cf(\"AAPL\", API_KEY))\n",
        "  stat = pd.merge(stat, ins_TTM, left_index=True, right_index=True, how=\"inner\")\n",
        "  stat = pd.merge(stat, cf_TTM, left_index=True, right_index=True, how=\"inner\")\n",
        "  stat = pd.merge(stat, bs_TTM, left_index=True, right_index=True, how=\"inner\")\n",
        "  ins_3Y = three_year_rolling_average(curate_is(\"AAPL\", API_KEY))\n",
        "  bs_3Y = three_year_rolling_average(curate_bs(\"AAPL\", API_KEY))\n",
        "  cf_3Y = three_year_rolling_average(curate_cf(\"AAPL\", API_KEY))\n",
        "  stat = pd.merge(stat, ins_3Y, left_index=True, right_index=True, how=\"inner\")\n",
        "  stat = pd.merge(stat, cf_3Y, left_index=True, right_index=True, how=\"inner\")\n",
        "  stat = pd.merge(stat, bs_3Y, left_index=True, right_index=True, how=\"inner\")\n",
        "  return stat\n",
        "\n",
        "combine_fin_statements(\"AAPL\", API_KEY)"
      ],
      "metadata": {
        "id": "7O63jYZwOir7"
      },
      "execution_count": null,
      "outputs": []
    }
  ]
}